{
  "nbformat": 4,
  "nbformat_minor": 0,
  "metadata": {
    "colab": {
      "provenance": []
    },
    "kernelspec": {
      "name": "python3",
      "display_name": "Python 3"
    },
    "language_info": {
      "name": "python"
    }
  },
  "cells": [
    {
      "cell_type": "code",
      "source": [
        "# Install the necessary packages\n",
        "!pip install datasets\n",
        "!pip install tokenizers\n",
        "!pip install transformers"
      ],
      "metadata": {
        "colab": {
          "base_uri": "https://localhost:8080/"
        },
        "id": "f93zDXcxBQcN",
        "outputId": "75cf6c45-1883-46ad-8e08-89675920471e"
      },
      "execution_count": 1,
      "outputs": [
        {
          "output_type": "stream",
          "name": "stdout",
          "text": [
            "Looking in indexes: https://pypi.org/simple, https://us-python.pkg.dev/colab-wheels/public/simple/\n",
            "Requirement already satisfied: datasets in /usr/local/lib/python3.9/dist-packages (2.11.0)\n",
            "Requirement already satisfied: responses<0.19 in /usr/local/lib/python3.9/dist-packages (from datasets) (0.18.0)\n",
            "Requirement already satisfied: pandas in /usr/local/lib/python3.9/dist-packages (from datasets) (1.5.3)\n",
            "Requirement already satisfied: multiprocess in /usr/local/lib/python3.9/dist-packages (from datasets) (0.70.14)\n",
            "Requirement already satisfied: pyyaml>=5.1 in /usr/local/lib/python3.9/dist-packages (from datasets) (6.0)\n",
            "Requirement already satisfied: numpy>=1.17 in /usr/local/lib/python3.9/dist-packages (from datasets) (1.22.4)\n",
            "Requirement already satisfied: requests>=2.19.0 in /usr/local/lib/python3.9/dist-packages (from datasets) (2.27.1)\n",
            "Requirement already satisfied: aiohttp in /usr/local/lib/python3.9/dist-packages (from datasets) (3.8.4)\n",
            "Requirement already satisfied: tqdm>=4.62.1 in /usr/local/lib/python3.9/dist-packages (from datasets) (4.65.0)\n",
            "Requirement already satisfied: fsspec[http]>=2021.11.1 in /usr/local/lib/python3.9/dist-packages (from datasets) (2023.4.0)\n",
            "Requirement already satisfied: huggingface-hub<1.0.0,>=0.11.0 in /usr/local/lib/python3.9/dist-packages (from datasets) (0.13.4)\n",
            "Requirement already satisfied: dill<0.3.7,>=0.3.0 in /usr/local/lib/python3.9/dist-packages (from datasets) (0.3.6)\n",
            "Requirement already satisfied: pyarrow>=8.0.0 in /usr/local/lib/python3.9/dist-packages (from datasets) (9.0.0)\n",
            "Requirement already satisfied: packaging in /usr/local/lib/python3.9/dist-packages (from datasets) (23.1)\n",
            "Requirement already satisfied: xxhash in /usr/local/lib/python3.9/dist-packages (from datasets) (3.2.0)\n",
            "Requirement already satisfied: yarl<2.0,>=1.0 in /usr/local/lib/python3.9/dist-packages (from aiohttp->datasets) (1.9.1)\n",
            "Requirement already satisfied: async-timeout<5.0,>=4.0.0a3 in /usr/local/lib/python3.9/dist-packages (from aiohttp->datasets) (4.0.2)\n",
            "Requirement already satisfied: charset-normalizer<4.0,>=2.0 in /usr/local/lib/python3.9/dist-packages (from aiohttp->datasets) (2.0.12)\n",
            "Requirement already satisfied: frozenlist>=1.1.1 in /usr/local/lib/python3.9/dist-packages (from aiohttp->datasets) (1.3.3)\n",
            "Requirement already satisfied: aiosignal>=1.1.2 in /usr/local/lib/python3.9/dist-packages (from aiohttp->datasets) (1.3.1)\n",
            "Requirement already satisfied: attrs>=17.3.0 in /usr/local/lib/python3.9/dist-packages (from aiohttp->datasets) (23.1.0)\n",
            "Requirement already satisfied: multidict<7.0,>=4.5 in /usr/local/lib/python3.9/dist-packages (from aiohttp->datasets) (6.0.4)\n",
            "Requirement already satisfied: typing-extensions>=3.7.4.3 in /usr/local/lib/python3.9/dist-packages (from huggingface-hub<1.0.0,>=0.11.0->datasets) (4.5.0)\n",
            "Requirement already satisfied: filelock in /usr/local/lib/python3.9/dist-packages (from huggingface-hub<1.0.0,>=0.11.0->datasets) (3.11.0)\n",
            "Requirement already satisfied: idna<4,>=2.5 in /usr/local/lib/python3.9/dist-packages (from requests>=2.19.0->datasets) (3.4)\n",
            "Requirement already satisfied: certifi>=2017.4.17 in /usr/local/lib/python3.9/dist-packages (from requests>=2.19.0->datasets) (2022.12.7)\n",
            "Requirement already satisfied: urllib3<1.27,>=1.21.1 in /usr/local/lib/python3.9/dist-packages (from requests>=2.19.0->datasets) (1.26.15)\n",
            "Requirement already satisfied: python-dateutil>=2.8.1 in /usr/local/lib/python3.9/dist-packages (from pandas->datasets) (2.8.2)\n",
            "Requirement already satisfied: pytz>=2020.1 in /usr/local/lib/python3.9/dist-packages (from pandas->datasets) (2022.7.1)\n",
            "Requirement already satisfied: six>=1.5 in /usr/local/lib/python3.9/dist-packages (from python-dateutil>=2.8.1->pandas->datasets) (1.16.0)\n",
            "Looking in indexes: https://pypi.org/simple, https://us-python.pkg.dev/colab-wheels/public/simple/\n",
            "Requirement already satisfied: tokenizers in /usr/local/lib/python3.9/dist-packages (0.13.3)\n",
            "Looking in indexes: https://pypi.org/simple, https://us-python.pkg.dev/colab-wheels/public/simple/\n",
            "Requirement already satisfied: transformers in /usr/local/lib/python3.9/dist-packages (4.28.1)\n",
            "Requirement already satisfied: requests in /usr/local/lib/python3.9/dist-packages (from transformers) (2.27.1)\n",
            "Requirement already satisfied: pyyaml>=5.1 in /usr/local/lib/python3.9/dist-packages (from transformers) (6.0)\n",
            "Requirement already satisfied: huggingface-hub<1.0,>=0.11.0 in /usr/local/lib/python3.9/dist-packages (from transformers) (0.13.4)\n",
            "Requirement already satisfied: filelock in /usr/local/lib/python3.9/dist-packages (from transformers) (3.11.0)\n",
            "Requirement already satisfied: tokenizers!=0.11.3,<0.14,>=0.11.1 in /usr/local/lib/python3.9/dist-packages (from transformers) (0.13.3)\n",
            "Requirement already satisfied: packaging>=20.0 in /usr/local/lib/python3.9/dist-packages (from transformers) (23.1)\n",
            "Requirement already satisfied: regex!=2019.12.17 in /usr/local/lib/python3.9/dist-packages (from transformers) (2022.10.31)\n",
            "Requirement already satisfied: tqdm>=4.27 in /usr/local/lib/python3.9/dist-packages (from transformers) (4.65.0)\n",
            "Requirement already satisfied: numpy>=1.17 in /usr/local/lib/python3.9/dist-packages (from transformers) (1.22.4)\n",
            "Requirement already satisfied: typing-extensions>=3.7.4.3 in /usr/local/lib/python3.9/dist-packages (from huggingface-hub<1.0,>=0.11.0->transformers) (4.5.0)\n",
            "Requirement already satisfied: charset-normalizer~=2.0.0 in /usr/local/lib/python3.9/dist-packages (from requests->transformers) (2.0.12)\n",
            "Requirement already satisfied: idna<4,>=2.5 in /usr/local/lib/python3.9/dist-packages (from requests->transformers) (3.4)\n",
            "Requirement already satisfied: urllib3<1.27,>=1.21.1 in /usr/local/lib/python3.9/dist-packages (from requests->transformers) (1.26.15)\n",
            "Requirement already satisfied: certifi>=2017.4.17 in /usr/local/lib/python3.9/dist-packages (from requests->transformers) (2022.12.7)\n"
          ]
        }
      ]
    },
    {
      "cell_type": "code",
      "execution_count": 2,
      "metadata": {
        "id": "mEWzpZpR7vXf"
      },
      "outputs": [],
      "source": [
        "# Import the necessary libraries\n",
        "import numpy as np\n",
        "import pandas as pd\n",
        "import matplotlib.pyplot as plt\n",
        "import seaborn as sns\n",
        "\n",
        "from datasets import load_dataset\n",
        "from transformers import AutoTokenizer\n",
        "from tokenizers import Tokenizer\n",
        "from tokenizers.models import WordLevel, WordPiece, BPE, Unigram \n",
        "from tokenizers.pre_tokenizers import WhitespaceSplit, CharDelimiterSplit, BertPreTokenizer\n",
        "from tokenizers.trainers import WordLevelTrainer, BpeTrainer, UnigramTrainer, WordLevelTrainer, WordPieceTrainer\n",
        "from sklearn.feature_extraction.text import CountVectorizer\n",
        "from sklearn.linear_model import LogisticRegression\n",
        "from sklearn import metrics"
      ]
    },
    {
      "cell_type": "code",
      "source": [
        "# constants\n",
        "VOCAB_SIZE = 20000"
      ],
      "metadata": {
        "id": "RRpzZa5yUfE7"
      },
      "execution_count": 3,
      "outputs": []
    },
    {
      "cell_type": "code",
      "source": [
        "# Load the SST dataset\n",
        "dataset_train = load_dataset('sst', split='train')\n",
        "dataset_dev = load_dataset('sst', split='validation')\n",
        "dataset_test = load_dataset('sst', split='test')\n",
        "\n",
        "# Print some examples from the dataset\n",
        "print(dataset_train[0][\"sentence\"])\n",
        "print(dataset_train[0][\"label\"])"
      ],
      "metadata": {
        "colab": {
          "base_uri": "https://localhost:8080/"
        },
        "id": "2CsX6pKO_IEH",
        "outputId": "38f33af2-9e23-4f44-aad2-3fd6812917ce"
      },
      "execution_count": 4,
      "outputs": [
        {
          "output_type": "stream",
          "name": "stderr",
          "text": [
            "WARNING:datasets.builder:No config specified, defaulting to: sst/default\n",
            "WARNING:datasets.builder:Found cached dataset sst (/root/.cache/huggingface/datasets/sst/default/1.0.0/b8a7889ef01c5d3ae8c379b84cc4080f8aad3ac2bc538701cbe0ac6416fb76ff)\n",
            "WARNING:datasets.builder:No config specified, defaulting to: sst/default\n",
            "WARNING:datasets.builder:Found cached dataset sst (/root/.cache/huggingface/datasets/sst/default/1.0.0/b8a7889ef01c5d3ae8c379b84cc4080f8aad3ac2bc538701cbe0ac6416fb76ff)\n",
            "WARNING:datasets.builder:No config specified, defaulting to: sst/default\n",
            "WARNING:datasets.builder:Found cached dataset sst (/root/.cache/huggingface/datasets/sst/default/1.0.0/b8a7889ef01c5d3ae8c379b84cc4080f8aad3ac2bc538701cbe0ac6416fb76ff)\n"
          ]
        },
        {
          "output_type": "stream",
          "name": "stdout",
          "text": [
            "The Rock is destined to be the 21st Century 's new `` Conan '' and that he 's going to make a splash even greater than Arnold Schwarzenegger , Jean-Claud Van Damme or Steven Segal .\n",
            "0.6944400072097778\n"
          ]
        }
      ]
    },
    {
      "cell_type": "markdown",
      "source": [
        "# Data preprocessing and visualization"
      ],
      "metadata": {
        "id": "cBweh9f6qTu-"
      }
    },
    {
      "cell_type": "code",
      "source": [
        "# Convert the dataset to a pandas DataFrame\n",
        "df_train = pd.DataFrame(dataset_train)[['sentence', 'label']]\n",
        "df_dev = pd.DataFrame(dataset_dev)[['sentence', 'label']]\n",
        "df_test = pd.DataFrame(dataset_test)[['sentence', 'label']]"
      ],
      "metadata": {
        "id": "5GttcmH9_j6M"
      },
      "execution_count": 5,
      "outputs": []
    },
    {
      "cell_type": "code",
      "source": [
        "# Round the label column to 0 or 1\n",
        "for df in [df_train, df_dev, df_test]:\n",
        "  df['label'] = df['label'].apply(lambda x: round(x))\n",
        "\n",
        "df_train.head()"
      ],
      "metadata": {
        "colab": {
          "base_uri": "https://localhost:8080/",
          "height": 206
        },
        "id": "MuLmA5l5AIz7",
        "outputId": "f08a3596-3ee4-4d5a-f69f-3d07623cf582"
      },
      "execution_count": 6,
      "outputs": [
        {
          "output_type": "execute_result",
          "data": {
            "text/plain": [
              "                                            sentence  label\n",
              "0  The Rock is destined to be the 21st Century 's...      1\n",
              "1  The gorgeously elaborate continuation of `` Th...      1\n",
              "2  Singer\\/composer Bryan Adams contributes a sle...      1\n",
              "3  You 'd think by now America would have had eno...      0\n",
              "4               Yet the act is still charming here .      1"
            ],
            "text/html": [
              "\n",
              "  <div id=\"df-09722130-a333-4e40-bc47-4b93774a0a4c\">\n",
              "    <div class=\"colab-df-container\">\n",
              "      <div>\n",
              "<style scoped>\n",
              "    .dataframe tbody tr th:only-of-type {\n",
              "        vertical-align: middle;\n",
              "    }\n",
              "\n",
              "    .dataframe tbody tr th {\n",
              "        vertical-align: top;\n",
              "    }\n",
              "\n",
              "    .dataframe thead th {\n",
              "        text-align: right;\n",
              "    }\n",
              "</style>\n",
              "<table border=\"1\" class=\"dataframe\">\n",
              "  <thead>\n",
              "    <tr style=\"text-align: right;\">\n",
              "      <th></th>\n",
              "      <th>sentence</th>\n",
              "      <th>label</th>\n",
              "    </tr>\n",
              "  </thead>\n",
              "  <tbody>\n",
              "    <tr>\n",
              "      <th>0</th>\n",
              "      <td>The Rock is destined to be the 21st Century 's...</td>\n",
              "      <td>1</td>\n",
              "    </tr>\n",
              "    <tr>\n",
              "      <th>1</th>\n",
              "      <td>The gorgeously elaborate continuation of `` Th...</td>\n",
              "      <td>1</td>\n",
              "    </tr>\n",
              "    <tr>\n",
              "      <th>2</th>\n",
              "      <td>Singer\\/composer Bryan Adams contributes a sle...</td>\n",
              "      <td>1</td>\n",
              "    </tr>\n",
              "    <tr>\n",
              "      <th>3</th>\n",
              "      <td>You 'd think by now America would have had eno...</td>\n",
              "      <td>0</td>\n",
              "    </tr>\n",
              "    <tr>\n",
              "      <th>4</th>\n",
              "      <td>Yet the act is still charming here .</td>\n",
              "      <td>1</td>\n",
              "    </tr>\n",
              "  </tbody>\n",
              "</table>\n",
              "</div>\n",
              "      <button class=\"colab-df-convert\" onclick=\"convertToInteractive('df-09722130-a333-4e40-bc47-4b93774a0a4c')\"\n",
              "              title=\"Convert this dataframe to an interactive table.\"\n",
              "              style=\"display:none;\">\n",
              "        \n",
              "  <svg xmlns=\"http://www.w3.org/2000/svg\" height=\"24px\"viewBox=\"0 0 24 24\"\n",
              "       width=\"24px\">\n",
              "    <path d=\"M0 0h24v24H0V0z\" fill=\"none\"/>\n",
              "    <path d=\"M18.56 5.44l.94 2.06.94-2.06 2.06-.94-2.06-.94-.94-2.06-.94 2.06-2.06.94zm-11 1L8.5 8.5l.94-2.06 2.06-.94-2.06-.94L8.5 2.5l-.94 2.06-2.06.94zm10 10l.94 2.06.94-2.06 2.06-.94-2.06-.94-.94-2.06-.94 2.06-2.06.94z\"/><path d=\"M17.41 7.96l-1.37-1.37c-.4-.4-.92-.59-1.43-.59-.52 0-1.04.2-1.43.59L10.3 9.45l-7.72 7.72c-.78.78-.78 2.05 0 2.83L4 21.41c.39.39.9.59 1.41.59.51 0 1.02-.2 1.41-.59l7.78-7.78 2.81-2.81c.8-.78.8-2.07 0-2.86zM5.41 20L4 18.59l7.72-7.72 1.47 1.35L5.41 20z\"/>\n",
              "  </svg>\n",
              "      </button>\n",
              "      \n",
              "  <style>\n",
              "    .colab-df-container {\n",
              "      display:flex;\n",
              "      flex-wrap:wrap;\n",
              "      gap: 12px;\n",
              "    }\n",
              "\n",
              "    .colab-df-convert {\n",
              "      background-color: #E8F0FE;\n",
              "      border: none;\n",
              "      border-radius: 50%;\n",
              "      cursor: pointer;\n",
              "      display: none;\n",
              "      fill: #1967D2;\n",
              "      height: 32px;\n",
              "      padding: 0 0 0 0;\n",
              "      width: 32px;\n",
              "    }\n",
              "\n",
              "    .colab-df-convert:hover {\n",
              "      background-color: #E2EBFA;\n",
              "      box-shadow: 0px 1px 2px rgba(60, 64, 67, 0.3), 0px 1px 3px 1px rgba(60, 64, 67, 0.15);\n",
              "      fill: #174EA6;\n",
              "    }\n",
              "\n",
              "    [theme=dark] .colab-df-convert {\n",
              "      background-color: #3B4455;\n",
              "      fill: #D2E3FC;\n",
              "    }\n",
              "\n",
              "    [theme=dark] .colab-df-convert:hover {\n",
              "      background-color: #434B5C;\n",
              "      box-shadow: 0px 1px 3px 1px rgba(0, 0, 0, 0.15);\n",
              "      filter: drop-shadow(0px 1px 2px rgba(0, 0, 0, 0.3));\n",
              "      fill: #FFFFFF;\n",
              "    }\n",
              "  </style>\n",
              "\n",
              "      <script>\n",
              "        const buttonEl =\n",
              "          document.querySelector('#df-09722130-a333-4e40-bc47-4b93774a0a4c button.colab-df-convert');\n",
              "        buttonEl.style.display =\n",
              "          google.colab.kernel.accessAllowed ? 'block' : 'none';\n",
              "\n",
              "        async function convertToInteractive(key) {\n",
              "          const element = document.querySelector('#df-09722130-a333-4e40-bc47-4b93774a0a4c');\n",
              "          const dataTable =\n",
              "            await google.colab.kernel.invokeFunction('convertToInteractive',\n",
              "                                                     [key], {});\n",
              "          if (!dataTable) return;\n",
              "\n",
              "          const docLinkHtml = 'Like what you see? Visit the ' +\n",
              "            '<a target=\"_blank\" href=https://colab.research.google.com/notebooks/data_table.ipynb>data table notebook</a>'\n",
              "            + ' to learn more about interactive tables.';\n",
              "          element.innerHTML = '';\n",
              "          dataTable['output_type'] = 'display_data';\n",
              "          await google.colab.output.renderOutput(dataTable, element);\n",
              "          const docLink = document.createElement('div');\n",
              "          docLink.innerHTML = docLinkHtml;\n",
              "          element.appendChild(docLink);\n",
              "        }\n",
              "      </script>\n",
              "    </div>\n",
              "  </div>\n",
              "  "
            ]
          },
          "metadata": {},
          "execution_count": 6
        }
      ]
    },
    {
      "cell_type": "code",
      "source": [
        "# Visualizing the distribution of the target variable\n",
        "plt.figure(figsize=(10,6))\n",
        "sns.countplot(x='label', data=df_train)\n",
        "\n",
        "plt.show()"
      ],
      "metadata": {
        "colab": {
          "base_uri": "https://localhost:8080/",
          "height": 542
        },
        "id": "Lbsa_Y_kjfUE",
        "outputId": "96b7db74-60bf-40d0-d75a-c5aedf681792"
      },
      "execution_count": 7,
      "outputs": [
        {
          "output_type": "display_data",
          "data": {
            "text/plain": [
              "<Figure size 1000x600 with 1 Axes>"
            ],
            "image/png": "[encoded data removed]"
          },
          "metadata": {}
        }
      ]
    },
    {
      "cell_type": "markdown",
      "source": [
        "# Tokenization"
      ],
      "metadata": {
        "id": "GRJjbpSOqah1"
      }
    },
    {
      "cell_type": "code",
      "source": [
        "# load the tokenizers:\n",
        "bpe = Tokenizer(BPE(unk_token=\"[UNK]\"))\n",
        "wordPiece = Tokenizer(WordPiece(unk_token=\"[UNK]\"))\n",
        "unigram = Tokenizer(Unigram())\n",
        "# need to complete the random freqs bpe"
      ],
      "metadata": {
        "id": "JXmywCcxqdLS"
      },
      "execution_count": 8,
      "outputs": []
    },
    {
      "cell_type": "code",
      "source": [
        "# load the preTokenizers:\n",
        "bpe.pre_tokenizer = BertPreTokenizer()\n",
        "wordPiece.pre_tokenizer = BertPreTokenizer()\n",
        "unigram.pre_tokenizer = BertPreTokenizer()\n",
        "# need to complete the random freqs bpe"
      ],
      "metadata": {
        "id": "TuqVnXpKwM1m"
      },
      "execution_count": 9,
      "outputs": []
    },
    {
      "cell_type": "code",
      "source": [
        "# load the default trainers:\n",
        "bpe_trainer = BpeTrainer(special_tokens=[\"<PAD>\", \"<UNK>\"], vocab_size=VOCAB_SIZE)\n",
        "wordPiece_trainer = WordPieceTrainer(special_tokens=[\"<PAD>\", \"<UNK>\"], vocab_size=VOCAB_SIZE)\n",
        "unigram_trainer = UnigramTrainer(special_tokens=[\"<PAD>\", \"<UNK>\"], vocab_size=VOCAB_SIZE)\n",
        "# need to complete the random freqs bpe"
      ],
      "metadata": {
        "id": "2yp7kMpYvg1X"
      },
      "execution_count": 10,
      "outputs": []
    },
    {
      "cell_type": "code",
      "source": [
        "# train the tokenizers on the corpus\n",
        "corpus = pd.concat([df_train[\"sentence\"],df_dev[\"sentence\"],df_test[\"sentence\"]])\n",
        "\n",
        "bpe.train_from_iterator(corpus, trainer=bpe_trainer)\n",
        "wordPiece.train_from_iterator(corpus, trainer=wordPiece_trainer)\n",
        "unigram.train_from_iterator(corpus, trainer=unigram_trainer)"
      ],
      "metadata": {
        "id": "nf4V69d4Q53S"
      },
      "execution_count": 11,
      "outputs": []
    },
    {
      "cell_type": "code",
      "source": [
        "class CharTokenizer:\n",
        "    def encode(self, text):\n",
        "        tokens = [char for char in text]\n",
        "        class Tokens:\n",
        "            def __init__(self, tokens):\n",
        "                self.tokens = tokens\n",
        "        return Tokens(tokens)"
      ],
      "metadata": {
        "id": "ilWO-e_HWLoz"
      },
      "execution_count": 12,
      "outputs": []
    },
    {
      "cell_type": "code",
      "source": [
        "by_char = CharTokenizer()"
      ],
      "metadata": {
        "id": "7fr2JvKJXZM2"
      },
      "execution_count": 13,
      "outputs": []
    },
    {
      "cell_type": "code",
      "source": [
        "print(bpe.get_vocab_size())\n",
        "print(wordPiece.get_vocab_size())\n",
        "print(unigram.get_vocab_size())"
      ],
      "metadata": {
        "colab": {
          "base_uri": "https://localhost:8080/"
        },
        "id": "URsTiYH4SVjl",
        "outputId": "1a5abea3-036a-4b9d-d718-4e4913f00c36"
      },
      "execution_count": 14,
      "outputs": [
        {
          "output_type": "stream",
          "name": "stdout",
          "text": [
            "20000\n",
            "20000\n",
            "10858\n"
          ]
        }
      ]
    },
    {
      "cell_type": "code",
      "source": [
        "print(' '.join(bpe.encode(\"hello world\").tokens))\n",
        "print(' '.join(wordPiece.encode(\"hello world\").tokens))\n",
        "print(' '.join(unigram.encode(\"hello world\").tokens))\n",
        "print(' '.join(by_char.encode(\"hello world\").tokens))"
      ],
      "metadata": {
        "colab": {
          "base_uri": "https://localhost:8080/"
        },
        "id": "hVExn4XcSijL",
        "outputId": "b908dcea-04db-4054-c63d-90dab693563e"
      },
      "execution_count": 15,
      "outputs": [
        {
          "output_type": "stream",
          "name": "stdout",
          "text": [
            "hel lo world\n",
            "hell ##o world\n",
            "hell o world\n",
            "h e l l o   w o r l d\n"
          ]
        }
      ]
    },
    {
      "cell_type": "code",
      "source": [
        "# create the list of tokenizers\n",
        "tokenizers = {'bpe':bpe, 'wordPiece':wordPiece,'unigram':unigram} # need to add by_char and random_freq_bpe\n",
        "\n",
        "# Tokenize the text in the DataFrame\n",
        "for df in [df_train, df_dev, df_test]:\n",
        "  for tokenizer_name,tokenizer in tokenizers.items():\n",
        "    df[f\"tokenized_by_{tokenizer_name}\"] = df['sentence'].apply(lambda x: ' '.join(tokenizer.encode(x).tokens))"
      ],
      "metadata": {
        "id": "TcIvBg53AnHM"
      },
      "execution_count": 22,
      "outputs": []
    },
    {
      "cell_type": "code",
      "source": [
        "df_train.head()"
      ],
      "metadata": {
        "colab": {
          "base_uri": "https://localhost:8080/",
          "height": 206
        },
        "id": "QYjsSv7a_8JF",
        "outputId": "5859dfc2-8b6c-48d1-e14e-466bb8d90949"
      },
      "execution_count": 23,
      "outputs": [
        {
          "output_type": "execute_result",
          "data": {
            "text/plain": [
              "                                            sentence  label  \\\n",
              "0  The Rock is destined to be the 21st Century 's...      1   \n",
              "1  The gorgeously elaborate continuation of `` Th...      1   \n",
              "2  Singer\\/composer Bryan Adams contributes a sle...      1   \n",
              "3  You 'd think by now America would have had eno...      0   \n",
              "4               Yet the act is still charming here .      1   \n",
              "\n",
              "                                    tokenized_by_bpe  \\\n",
              "0  The Rock is destined to be the 21st Century ' ...   \n",
              "1  The gorgeously elaborate continuation of ` ` T...   \n",
              "2  Sing er \\ / composer Bryan Adams contribut es ...   \n",
              "3  You ' d think by now America would have had en...   \n",
              "4               Yet the act is still charming here .   \n",
              "\n",
              "                              tokenized_by_wordPiece  \\\n",
              "0  The Rock is destined to be the 21st Century ' ...   \n",
              "1  The gorgeously elaborate continuation of ` ` T...   \n",
              "2  Singer \\ / composer Bryan Adams contrib ##utes...   \n",
              "3  You ' d think by now America would have had en...   \n",
              "4               Yet the act is still charming here .   \n",
              "\n",
              "                                tokenized_by_unigram  \\\n",
              "0  The Rock is destin ed to be the 21 s t C entur...   \n",
              "1  The gorgeous ly elaborate continu ation of ` `...   \n",
              "2  S ing er \\ / compose r Br y an Adam s contribu...   \n",
              "3  You ' d think by now America w ould have had e...   \n",
              "4              Ye t the act is still charming here .   \n",
              "\n",
              "                                tokenized_by_by_char  \n",
              "0  T h e   R o c k   i s   d e s t i n e d   t o ...  \n",
              "1  T h e   g o r g e o u s l y   e l a b o r a t ...  \n",
              "2  S i n g e r \\ / c o m p o s e r   B r y a n   ...  \n",
              "3  Y o u   ' d   t h i n k   b y   n o w   A m e ...  \n",
              "4  Y e t   t h e   a c t   i s   s t i l l   c h ...  "
            ],
            "text/html": [
              "\n",
              "  <div id=\"df-baa457e8-ec37-4d2e-a9a2-fb328dd5f0ac\">\n",
              "    <div class=\"colab-df-container\">\n",
              "      <div>\n",
              "<style scoped>\n",
              "    .dataframe tbody tr th:only-of-type {\n",
              "        vertical-align: middle;\n",
              "    }\n",
              "\n",
              "    .dataframe tbody tr th {\n",
              "        vertical-align: top;\n",
              "    }\n",
              "\n",
              "    .dataframe thead th {\n",
              "        text-align: right;\n",
              "    }\n",
              "</style>\n",
              "<table border=\"1\" class=\"dataframe\">\n",
              "  <thead>\n",
              "    <tr style=\"text-align: right;\">\n",
              "      <th></th>\n",
              "      <th>sentence</th>\n",
              "      <th>label</th>\n",
              "      <th>tokenized_by_bpe</th>\n",
              "      <th>tokenized_by_wordPiece</th>\n",
              "      <th>tokenized_by_unigram</th>\n",
              "      <th>tokenized_by_by_char</th>\n",
              "    </tr>\n",
              "  </thead>\n",
              "  <tbody>\n",
              "    <tr>\n",
              "      <th>0</th>\n",
              "      <td>The Rock is destined to be the 21st Century 's...</td>\n",
              "      <td>1</td>\n",
              "      <td>The Rock is destined to be the 21st Century ' ...</td>\n",
              "      <td>The Rock is destined to be the 21st Century ' ...</td>\n",
              "      <td>The Rock is destin ed to be the 21 s t C entur...</td>\n",
              "      <td>T h e   R o c k   i s   d e s t i n e d   t o ...</td>\n",
              "    </tr>\n",
              "    <tr>\n",
              "      <th>1</th>\n",
              "      <td>The gorgeously elaborate continuation of `` Th...</td>\n",
              "      <td>1</td>\n",
              "      <td>The gorgeously elaborate continuation of ` ` T...</td>\n",
              "      <td>The gorgeously elaborate continuation of ` ` T...</td>\n",
              "      <td>The gorgeous ly elaborate continu ation of ` `...</td>\n",
              "      <td>T h e   g o r g e o u s l y   e l a b o r a t ...</td>\n",
              "    </tr>\n",
              "    <tr>\n",
              "      <th>2</th>\n",
              "      <td>Singer\\/composer Bryan Adams contributes a sle...</td>\n",
              "      <td>1</td>\n",
              "      <td>Sing er \\ / composer Bryan Adams contribut es ...</td>\n",
              "      <td>Singer \\ / composer Bryan Adams contrib ##utes...</td>\n",
              "      <td>S ing er \\ / compose r Br y an Adam s contribu...</td>\n",
              "      <td>S i n g e r \\ / c o m p o s e r   B r y a n   ...</td>\n",
              "    </tr>\n",
              "    <tr>\n",
              "      <th>3</th>\n",
              "      <td>You 'd think by now America would have had eno...</td>\n",
              "      <td>0</td>\n",
              "      <td>You ' d think by now America would have had en...</td>\n",
              "      <td>You ' d think by now America would have had en...</td>\n",
              "      <td>You ' d think by now America w ould have had e...</td>\n",
              "      <td>Y o u   ' d   t h i n k   b y   n o w   A m e ...</td>\n",
              "    </tr>\n",
              "    <tr>\n",
              "      <th>4</th>\n",
              "      <td>Yet the act is still charming here .</td>\n",
              "      <td>1</td>\n",
              "      <td>Yet the act is still charming here .</td>\n",
              "      <td>Yet the act is still charming here .</td>\n",
              "      <td>Ye t the act is still charming here .</td>\n",
              "      <td>Y e t   t h e   a c t   i s   s t i l l   c h ...</td>\n",
              "    </tr>\n",
              "  </tbody>\n",
              "</table>\n",
              "</div>\n",
              "      <button class=\"colab-df-convert\" onclick=\"convertToInteractive('df-baa457e8-ec37-4d2e-a9a2-fb328dd5f0ac')\"\n",
              "              title=\"Convert this dataframe to an interactive table.\"\n",
              "              style=\"display:none;\">\n",
              "        \n",
              "  <svg xmlns=\"http://www.w3.org/2000/svg\" height=\"24px\"viewBox=\"0 0 24 24\"\n",
              "       width=\"24px\">\n",
              "    <path d=\"M0 0h24v24H0V0z\" fill=\"none\"/>\n",
              "    <path d=\"M18.56 5.44l.94 2.06.94-2.06 2.06-.94-2.06-.94-.94-2.06-.94 2.06-2.06.94zm-11 1L8.5 8.5l.94-2.06 2.06-.94-2.06-.94L8.5 2.5l-.94 2.06-2.06.94zm10 10l.94 2.06.94-2.06 2.06-.94-2.06-.94-.94-2.06-.94 2.06-2.06.94z\"/><path d=\"M17.41 7.96l-1.37-1.37c-.4-.4-.92-.59-1.43-.59-.52 0-1.04.2-1.43.59L10.3 9.45l-7.72 7.72c-.78.78-.78 2.05 0 2.83L4 21.41c.39.39.9.59 1.41.59.51 0 1.02-.2 1.41-.59l7.78-7.78 2.81-2.81c.8-.78.8-2.07 0-2.86zM5.41 20L4 18.59l7.72-7.72 1.47 1.35L5.41 20z\"/>\n",
              "  </svg>\n",
              "      </button>\n",
              "      \n",
              "  <style>\n",
              "    .colab-df-container {\n",
              "      display:flex;\n",
              "      flex-wrap:wrap;\n",
              "      gap: 12px;\n",
              "    }\n",
              "\n",
              "    .colab-df-convert {\n",
              "      background-color: #E8F0FE;\n",
              "      border: none;\n",
              "      border-radius: 50%;\n",
              "      cursor: pointer;\n",
              "      display: none;\n",
              "      fill: #1967D2;\n",
              "      height: 32px;\n",
              "      padding: 0 0 0 0;\n",
              "      width: 32px;\n",
              "    }\n",
              "\n",
              "    .colab-df-convert:hover {\n",
              "      background-color: #E2EBFA;\n",
              "      box-shadow: 0px 1px 2px rgba(60, 64, 67, 0.3), 0px 1px 3px 1px rgba(60, 64, 67, 0.15);\n",
              "      fill: #174EA6;\n",
              "    }\n",
              "\n",
              "    [theme=dark] .colab-df-convert {\n",
              "      background-color: #3B4455;\n",
              "      fill: #D2E3FC;\n",
              "    }\n",
              "\n",
              "    [theme=dark] .colab-df-convert:hover {\n",
              "      background-color: #434B5C;\n",
              "      box-shadow: 0px 1px 3px 1px rgba(0, 0, 0, 0.15);\n",
              "      filter: drop-shadow(0px 1px 2px rgba(0, 0, 0, 0.3));\n",
              "      fill: #FFFFFF;\n",
              "    }\n",
              "  </style>\n",
              "\n",
              "      <script>\n",
              "        const buttonEl =\n",
              "          document.querySelector('#df-baa457e8-ec37-4d2e-a9a2-fb328dd5f0ac button.colab-df-convert');\n",
              "        buttonEl.style.display =\n",
              "          google.colab.kernel.accessAllowed ? 'block' : 'none';\n",
              "\n",
              "        async function convertToInteractive(key) {\n",
              "          const element = document.querySelector('#df-baa457e8-ec37-4d2e-a9a2-fb328dd5f0ac');\n",
              "          const dataTable =\n",
              "            await google.colab.kernel.invokeFunction('convertToInteractive',\n",
              "                                                     [key], {});\n",
              "          if (!dataTable) return;\n",
              "\n",
              "          const docLinkHtml = 'Like what you see? Visit the ' +\n",
              "            '<a target=\"_blank\" href=https://colab.research.google.com/notebooks/data_table.ipynb>data table notebook</a>'\n",
              "            + ' to learn more about interactive tables.';\n",
              "          element.innerHTML = '';\n",
              "          dataTable['output_type'] = 'display_data';\n",
              "          await google.colab.output.renderOutput(dataTable, element);\n",
              "          const docLink = document.createElement('div');\n",
              "          docLink.innerHTML = docLinkHtml;\n",
              "          element.appendChild(docLink);\n",
              "        }\n",
              "      </script>\n",
              "    </div>\n",
              "  </div>\n",
              "  "
            ]
          },
          "metadata": {},
          "execution_count": 23
        }
      ]
    },
    {
      "cell_type": "markdown",
      "source": [
        "# Bag of words"
      ],
      "metadata": {
        "id": "k27WfIH-Hr59"
      }
    },
    {
      "cell_type": "code",
      "source": [
        "# Create CountVectorizer objects for each tokenizer and fit them\n",
        "vectorizers = [CountVectorizer().fit(pd.concat([df_train[f\"tokenized_by_{tokenizer_name}\"],df_dev[f\"tokenized_by_{tokenizer_name}\"],df_test[f\"tokenized_by_{tokenizer_name}\"]])) for tokenizer_name in tokenizers.keys()]"
      ],
      "metadata": {
        "id": "i-dzjqJZFvNn"
      },
      "execution_count": 24,
      "outputs": []
    },
    {
      "cell_type": "code",
      "source": [
        "vectorizers[0].transform(df_train[f\"tokenized_by_{tokenizer_name}\"]).toarray().shape"
      ],
      "metadata": {
        "colab": {
          "base_uri": "https://localhost:8080/"
        },
        "id": "L_heS-N5bQyk",
        "outputId": "7be99be7-4de9-4a32-ec65-9326a48969fe"
      },
      "execution_count": 27,
      "outputs": [
        {
          "output_type": "execute_result",
          "data": {
            "text/plain": [
              "(8544, 15490)"
            ]
          },
          "metadata": {},
          "execution_count": 27
        }
      ]
    },
    {
      "cell_type": "code",
      "source": [
        "accuracies = []\n",
        "y_train, y_test = np.array(df_train['label']), np.array(df_test['label'])\n",
        "for vectorizer,tokenizer_name in zip(vectorizers,tokenizers.keys()):\n",
        "  X_train = vectorizer.transform(df_train[f\"tokenized_by_{tokenizer_name}\"]).toarray()\n",
        "  X_test = vectorizer.transform(df_test[f\"tokenized_by_{tokenizer_name}\"]).toarray()\n",
        "  # Create an instance of LogisticRegression classifier\n",
        "  lr = LogisticRegression(verbose=1,solver='saga',penalty='l2')\n",
        "  # Fit the model\n",
        "  lr.fit(X_train, y_train)\n",
        "  # Create the predictions\n",
        "  y_predict = lr.predict(X_test)\n",
        "  # Use metrics.accuracy_score to measure the score\n",
        "  print(f\"LogisticRegression Accuracy {metrics.accuracy_score(y_test, y_predict)} for {tokenizer_name}\")"
      ],
      "metadata": {
        "colab": {
          "base_uri": "https://localhost:8080/"
        },
        "id": "s418YlvVMgam",
        "outputId": "979eff6d-d2c4-45a3-f8e6-fcc3afa7b237"
      },
      "execution_count": 28,
      "outputs": [
        {
          "output_type": "stream",
          "name": "stderr",
          "text": [
            "[Parallel(n_jobs=1)]: Using backend SequentialBackend with 1 concurrent workers.\n"
          ]
        },
        {
          "output_type": "stream",
          "name": "stdout",
          "text": [
            "max_iter reached after 200 seconds\n"
          ]
        },
        {
          "output_type": "stream",
          "name": "stderr",
          "text": [
            "/usr/local/lib/python3.9/dist-packages/sklearn/linear_model/_sag.py:350: ConvergenceWarning: The max_iter was reached which means the coef_ did not converge\n",
            "  warnings.warn(\n",
            "[Parallel(n_jobs=1)]: Done   1 out of   1 | elapsed:  3.3min finished\n"
          ]
        },
        {
          "output_type": "stream",
          "name": "stdout",
          "text": [
            "LogisticRegression Accuracy 0.7660633484162896 for bpe\n"
          ]
        },
        {
          "output_type": "stream",
          "name": "stderr",
          "text": [
            "[Parallel(n_jobs=1)]: Using backend SequentialBackend with 1 concurrent workers.\n"
          ]
        },
        {
          "output_type": "stream",
          "name": "stdout",
          "text": [
            "max_iter reached after 183 seconds\n",
            "LogisticRegression Accuracy 0.7723981900452489 for wordPiece\n"
          ]
        },
        {
          "output_type": "stream",
          "name": "stderr",
          "text": [
            "/usr/local/lib/python3.9/dist-packages/sklearn/linear_model/_sag.py:350: ConvergenceWarning: The max_iter was reached which means the coef_ did not converge\n",
            "  warnings.warn(\n",
            "[Parallel(n_jobs=1)]: Done   1 out of   1 | elapsed:  3.1min finished\n",
            "[Parallel(n_jobs=1)]: Using backend SequentialBackend with 1 concurrent workers.\n"
          ]
        },
        {
          "output_type": "stream",
          "name": "stdout",
          "text": [
            "max_iter reached after 106 seconds\n",
            "LogisticRegression Accuracy 0.7506787330316742 for unigram\n"
          ]
        },
        {
          "output_type": "stream",
          "name": "stderr",
          "text": [
            "/usr/local/lib/python3.9/dist-packages/sklearn/linear_model/_sag.py:350: ConvergenceWarning: The max_iter was reached which means the coef_ did not converge\n",
            "  warnings.warn(\n",
            "[Parallel(n_jobs=1)]: Done   1 out of   1 | elapsed:  1.8min finished\n"
          ]
        }
      ]
    }
  ]
}